{
 "metadata": {
  "name": "",
  "signature": "sha256:c8c7175ecdff20bdfff166c0ae7db08886bd4c052594ddb948ff9463a23b13c7"
 },
 "nbformat": 3,
 "nbformat_minor": 0,
 "worksheets": [
  {
   "cells": [
    {
     "cell_type": "heading",
     "level": 1,
     "metadata": {},
     "source": [
      "Project 1: Digit Classification with KNN and Naive Bayes"
     ]
    },
    {
     "cell_type": "markdown",
     "metadata": {},
     "source": [
      "In this project, you'll implement your own image recognition system for classifying digits. Read through the code and the instructions carefully and add your own code where indicated. Each problem can be addressed succinctly with the included packages -- please don't add any more. Grading will be based on writing clean, commented code, along with a few short answers.\n",
      "\n",
      "If you're interested in more advanced image processing, feel free to add extra code (and libraries) to the end of your notebook. We'll discuss interesting results in class. Here are some resources related to digit recognition:\n",
      "\n",
      "Yann Lecun's MNIST benchmarks: http://yann.lecun.com/exdb/mnist/\n",
      "\n",
      "Stanford Streetview research and data: http://ufldl.stanford.edu/housenumbers/\n",
      "\n",
      "As always, you're welcome to work on the project in groups and discuss ideas on the course wall, but please prepare your own write-up (with your own code)."
     ]
    },
    {
     "cell_type": "code",
     "collapsed": false,
     "input": [
      "# This tells matplotlib not to try opening a new window for each plot.\n",
      "%matplotlib inline\n",
      "\n",
      "# Import a bunch of libraries.\n",
      "import numpy as np\n",
      "import matplotlib.pyplot as plt\n",
      "import sklearn.neighbors as neighbors\n",
      "from matplotlib.ticker import MultipleLocator\n",
      "from sklearn.pipeline import Pipeline\n",
      "from sklearn.datasets import fetch_mldata\n",
      "from sklearn.neighbors import KNeighborsClassifier\n",
      "from sklearn.metrics import confusion_matrix\n",
      "from sklearn.linear_model import LinearRegression\n",
      "from sklearn.naive_bayes import BernoulliNB\n",
      "from sklearn.naive_bayes import MultinomialNB\n",
      "from sklearn.naive_bayes import GaussianNB\n",
      "from sklearn.grid_search import GridSearchCV\n",
      "from sklearn.metrics import classification_report\n",
      "from sklearn.metrics import accuracy_score\n",
      "\n",
      "# Set the randomizer seed so results are the same each time.\n",
      "np.random.seed(0)"
     ],
     "language": "python",
     "metadata": {},
     "outputs": [],
     "prompt_number": 80
    },
    {
     "cell_type": "markdown",
     "metadata": {},
     "source": [
      "Load the data. Notice that we are splitting the data into training, development, and test. We also have a small subset of the training data called mini_train_data and mini_train_labels that you should use in all the experiments below, unless otherwise noted."
     ]
    },
    {
     "cell_type": "code",
     "collapsed": false,
     "input": [
      "# Load the digit data either from mldata.org, or once downloaded to data_home, from disk. The data is about 53MB so this cell\n",
      "# should take a while the first time your run it.\n",
      "mnist = fetch_mldata('MNIST original', data_home='~/datasets/mnist')\n",
      "X, Y = mnist.data, mnist.target\n",
      "\n",
      "# Rescale grayscale values to [0,1].\n",
      "X = X / 255.0\n",
      "\n",
      "# Shuffle the input: create a random permutation of the integers between 0 and the number of data points and apply this\n",
      "# permutation to X and Y.\n",
      "# NOTE: Each time you run this cell, you'll re-shuffle the data, resulting in a different ordering.\n",
      "shuffle = np.random.permutation(np.arange(X.shape[0]))\n",
      "X, Y = X[shuffle], Y[shuffle]\n",
      "\n",
      "print 'data shape: ', X.shape\n",
      "print 'label shape:', Y.shape\n",
      "\n",
      "# Set some variables to hold test, dev, and training data.\n",
      "test_data, test_labels = X[61000:], Y[61000:]\n",
      "dev_data, dev_labels = X[60000:61000], Y[60000:61000]\n",
      "train_data, train_labels = X[:60000], Y[:60000]\n",
      "mini_train_data, mini_train_labels = X[:1000], Y[:1000]"
     ],
     "language": "python",
     "metadata": {},
     "outputs": [
      {
       "output_type": "stream",
       "stream": "stdout",
       "text": [
        "data shape:  (70000, 784)\n",
        "label shape: (70000,)\n"
       ]
      }
     ],
     "prompt_number": 76
    },
    {
     "cell_type": "markdown",
     "metadata": {},
     "source": [
      "(1) Create a 10x10 grid to visualize 10 examples of each digit."
     ]
    },
    {
     "cell_type": "code",
     "collapsed": false,
     "input": [
      "def P1(num_examples=10):\n",
      "\n",
      "### STUDENT START ###\n",
      "    currow = 0 # row counter\n",
      "    count = 0 # image counter\n",
      "    maxrow = 10 # maximum number of rows to create - 10 digits\n",
      "    startposition = [] # this will stay static - the boundaries of our grid\n",
      "    curposition = [] # this tracks where we're drawing in the grid for each digit\n",
      "    gridcomplete = [] # this will be used to monitor if we're done gathering examples of digits - 0 is not done, 1 is done\n",
      "    ongoing = True\n",
      "    \n",
      "    # this uses subplots to draw the grid, so we'll be defining our ranges using num_examples to adjust for columns\n",
      "    # each array element in startposition corresponds to its digit\n",
      "    # for example, the range between startposition[0] and startposition[1] constitutes the subplots showing digit 0\n",
      "    # digit 1 would be between startposition[1] and startposition[2], etc.\n",
      "    \n",
      "    while (currow < maxrow):\n",
      "        startposition.append(1 + currow * num_examples)\n",
      "        curposition.append(1 + currow * num_examples)\n",
      "        gridcomplete.append(0)\n",
      "        currow = currow + 1\n",
      "    startposition.append(1 + maxrow * num_examples) # add the upper limit\n",
      "    currow = 0 # reset currow to use in our next loop\n",
      "    \n",
      "    plt.figure()\n",
      "    \n",
      "    \n",
      "    \n",
      "    while ongoing:\n",
      "        curnum = int(train_labels[count]) # get the digit we're working with\n",
      "        if(gridcomplete[curnum] == 0): # see if we already have enough examples of the digit\n",
      "            plt.subplot(maxrow, num_examples, curposition[curnum]) # create the subplot for the digit\n",
      "            plt.axis('off') # turn off the axis to make our grid neater\n",
      "            plt.imshow(train_data[count].reshape(28, 28), cmap = \"Greys\") # draw the digit into the subplot\n",
      "            curposition[curnum] = curposition[curnum] + 1 # increment\n",
      "            if curposition[curnum] >= startposition[curnum + 1]: # check to see if we've gathered sufficient examples\n",
      "                gridcomplete[curnum] = 1 # if yes, mark it as complete\n",
      "                ongoing = False # also we want to see if we're done with all digits\n",
      "                currow = 0 # reset counter\n",
      "                while (currow < maxrow): # check all of gridcomplete to see if all flags have been set to done\n",
      "                    if gridcomplete[currow] == 0: # if we run into an incomplete digit\n",
      "                        ongoing = True # keep going\n",
      "                    currow = currow + 1\n",
      "        count = count + 1\n",
      "    plt.plot()\n",
      "    \n",
      "\n",
      "### STUDENT END ###\n",
      "\n",
      "P1(10)"
     ],
     "language": "python",
     "metadata": {},
     "outputs": [
      {
       "metadata": {},
       "output_type": "display_data",
       "png": "[encoded data removed]",
       "text": [
        "<matplotlib.figure.Figure at 0x7f52e5ee1f50>"
       ]
      }
     ],
     "prompt_number": 77
    },
    {
     "cell_type": "markdown",
     "metadata": {},
     "source": [
      "(2) Evaluate a K-Nearest-Neighbors model with k = [1,3,5,7,9] using the mini training set. Report accuracy on the dev set. Also output precision, recall, and F1 for each label. Which is the most difficult digit? What do the precision and recall values for each digit tell you about the variability of each digit?"
     ]
    },
    {
     "cell_type": "code",
     "collapsed": false,
     "input": [
      "def P2(k_values):\n",
      "\n",
      "### STUDENT START ###\n",
      "    \n",
      "    for k in k_values: # proceed through each k value\n",
      "        \n",
      "        success = [0,0,0,0,0,0,0,0,0,0] # this will count successful matches\n",
      "        pcount = [0,0,0,0,0,0,0,0,0,0] # this will count the number of time each digit is predicted\n",
      "        dcount = [0,0,0,0,0,0,0,0,0,0] # this will count the number of time each digit shows up in the dev data\n",
      "        \n",
      "        model = KNeighborsClassifier(n_neighbors = k) # define model with k neighbors\n",
      "        model.fit(mini_train_data, mini_train_labels) # train model on mini training data\n",
      "        \n",
      "        count = 0\n",
      "        \n",
      "        while count < len(dev_data): # iterate through development data\n",
      "            val = model.predict(dev_data[count]) # predict a value based on dev data\n",
      "            pcount[int(val[0])] += 1 # increment the predicted value counter for the proper digit\n",
      "            dcount[int(dev_labels[count])] += 1 # increment the dev data value counter for the proper digit\n",
      "            if val == dev_labels[count]: # if our prediction matches\n",
      "                success[int(dev_labels[count])] += 1 # increment our success counter\n",
      "            count += 1\n",
      "            \n",
      "        \n",
      "        print \"For \" + str(k) + \" nearest neighbors: \" # print our results\n",
      "        print \"------------------------------------------------\"\n",
      "        \n",
      "        count = 0 # reset counter\n",
      "        while count < len(success): # iterate through the digits\n",
      "            p = success[count]/float(pcount[count]) # calculate precision - true positives over true positives + false positives\n",
      "            r = success[count]/float(dcount[count]) # calculate recall - true positives over true positives + false negatives\n",
      "            f = 2 * ((p * r)/float(p + r)) # calculate F1 score - 2 * ((precision * recall)/(precision + recall))\n",
      "            print \"\\tFor %i: precision = %.2f, recall = %.2f, F1 score = %.2f\" % (count, p, r, f)\n",
      "            count += 1 # increment counter\n",
      "        acc = 0\n",
      "        count = 0\n",
      "        for digit in success: # add up all total successes\n",
      "            acc += success[count]\n",
      "            count += 1\n",
      "        print \"Overall accuracy = %.2f\" % (acc/float(len(dev_data)))\n",
      "        \n",
      "        print \"================================================\\n\"\n",
      "        \n",
      "### STUDENT END ###\n",
      "\n",
      "k_values = [1, 3, 5, 7, 9]\n",
      "P2(k_values)"
     ],
     "language": "python",
     "metadata": {},
     "outputs": [
      {
       "output_type": "stream",
       "stream": "stdout",
       "text": [
        "For 1 nearest neighbors: \n",
        "------------------------------------------------\n",
        "\tFor 0: precision = 0.91, recall = 0.98, F1 score = 0.94\n",
        "\tFor 1: precision = 0.89, recall = 1.00, F1 score = 0.94\n",
        "\tFor 2: precision = 0.99, recall = 0.79, F1 score = 0.88\n",
        "\tFor 3: precision = 0.77, recall = 0.87, F1 score = 0.82\n",
        "\tFor 4: precision = 0.89, recall = 0.82, F1 score = 0.85\n",
        "\tFor 5: precision = 0.93, recall = 0.84, F1 score = 0.88\n",
        "\tFor 6: precision = 0.94, recall = 0.96, F1 score = 0.95\n",
        "\tFor 7: precision = 0.89, recall = 0.92, F1 score = 0.90\n",
        "\tFor 8: precision = 0.94, recall = 0.88, F1 score = 0.91\n",
        "\tFor 9: precision = 0.78, recall = 0.82, F1 score = 0.80\n",
        "Overall accuracy = 0.89\n",
        "================================================\n",
        "\n",
        "For 3 nearest neighbors: "
       ]
      },
      {
       "output_type": "stream",
       "stream": "stdout",
       "text": [
        "\n",
        "------------------------------------------------\n",
        "\tFor 0: precision = 0.90, recall = 1.00, F1 score = 0.95\n",
        "\tFor 1: precision = 0.81, recall = 1.00, F1 score = 0.89\n",
        "\tFor 2: precision = 0.95, recall = 0.81, F1 score = 0.88\n",
        "\tFor 3: precision = 0.69, recall = 0.84, F1 score = 0.75\n",
        "\tFor 4: precision = 0.88, recall = 0.85, F1 score = 0.86\n",
        "\tFor 5: precision = 0.94, recall = 0.79, F1 score = 0.86\n",
        "\tFor 6: precision = 0.97, recall = 0.96, F1 score = 0.96\n",
        "\tFor 7: precision = 0.92, recall = 0.88, F1 score = 0.90\n",
        "\tFor 8: precision = 0.96, recall = 0.79, F1 score = 0.87\n",
        "\tFor 9: precision = 0.84, recall = 0.85, F1 score = 0.85\n",
        "Overall accuracy = 0.88\n",
        "================================================\n",
        "\n",
        "For 5 nearest neighbors: "
       ]
      },
      {
       "output_type": "stream",
       "stream": "stdout",
       "text": [
        "\n",
        "------------------------------------------------\n",
        "\tFor 0: precision = 0.92, recall = 0.98, F1 score = 0.95\n",
        "\tFor 1: precision = 0.78, recall = 1.00, F1 score = 0.88\n",
        "\tFor 2: precision = 0.98, recall = 0.80, F1 score = 0.88\n",
        "\tFor 3: precision = 0.76, recall = 0.84, F1 score = 0.80\n",
        "\tFor 4: precision = 0.87, recall = 0.83, F1 score = 0.85\n",
        "\tFor 5: precision = 0.93, recall = 0.82, F1 score = 0.87\n",
        "\tFor 6: precision = 0.94, recall = 0.95, F1 score = 0.94\n",
        "\tFor 7: precision = 0.87, recall = 0.87, F1 score = 0.87\n",
        "\tFor 8: precision = 0.96, recall = 0.77, F1 score = 0.86\n",
        "\tFor 9: precision = 0.77, recall = 0.82, F1 score = 0.79\n",
        "Overall accuracy = 0.87\n",
        "================================================\n",
        "\n",
        "For 7 nearest neighbors: "
       ]
      },
      {
       "output_type": "stream",
       "stream": "stdout",
       "text": [
        "\n",
        "------------------------------------------------\n",
        "\tFor 0: precision = 0.91, recall = 0.98, F1 score = 0.94\n",
        "\tFor 1: precision = 0.77, recall = 1.00, F1 score = 0.87\n",
        "\tFor 2: precision = 0.99, recall = 0.76, F1 score = 0.86\n",
        "\tFor 3: precision = 0.79, recall = 0.87, F1 score = 0.83\n",
        "\tFor 4: precision = 0.90, recall = 0.81, F1 score = 0.85\n",
        "\tFor 5: precision = 0.95, recall = 0.81, F1 score = 0.88\n",
        "\tFor 6: precision = 0.91, recall = 0.93, F1 score = 0.92\n",
        "\tFor 7: precision = 0.83, recall = 0.88, F1 score = 0.85\n",
        "\tFor 8: precision = 0.95, recall = 0.78, F1 score = 0.86\n",
        "\tFor 9: precision = 0.77, recall = 0.81, F1 score = 0.79\n",
        "Overall accuracy = 0.86\n",
        "================================================\n",
        "\n",
        "For 9 nearest neighbors: "
       ]
      },
      {
       "output_type": "stream",
       "stream": "stdout",
       "text": [
        "\n",
        "------------------------------------------------\n",
        "\tFor 0: precision = 0.91, recall = 0.98, F1 score = 0.94\n",
        "\tFor 1: precision = 0.73, recall = 1.00, F1 score = 0.84\n",
        "\tFor 2: precision = 0.97, recall = 0.75, F1 score = 0.85\n",
        "\tFor 3: precision = 0.80, recall = 0.85, F1 score = 0.82\n",
        "\tFor 4: precision = 0.91, recall = 0.81, F1 score = 0.86\n",
        "\tFor 5: precision = 0.97, recall = 0.79, F1 score = 0.87\n",
        "\tFor 6: precision = 0.92, recall = 0.93, F1 score = 0.92\n",
        "\tFor 7: precision = 0.83, recall = 0.88, F1 score = 0.85\n",
        "\tFor 8: precision = 0.94, recall = 0.79, F1 score = 0.86\n",
        "\tFor 9: precision = 0.78, recall = 0.84, F1 score = 0.81\n",
        "Overall accuracy = 0.86\n",
        "================================================\n",
        "\n"
       ]
      }
     ],
     "prompt_number": 78
    },
    {
     "cell_type": "markdown",
     "metadata": {},
     "source": [
      "ANSWER: 3 appears to be the trickiest digit to handle. Precision and recall both tell us about the ease of which a digit can be mistaken for another. A lower precision score indicates that other digits can be written to look more like our target digit. A lower recall score indicates that our target digit can be written to look more like other digits."
     ]
    },
    {
     "cell_type": "markdown",
     "metadata": {},
     "source": [
      "(3) Using the best setting of k, report dev set accuracy for the training set sizes below."
     ]
    },
    {
     "cell_type": "code",
     "collapsed": false,
     "input": [
      "def P3(train_sizes, accuracies):\n",
      "\n",
      "### STUDENT START ###\n",
      "\n",
      "    for size in train_sizes:\n",
      "        model = KNeighborsClassifier(n_neighbors = 1) # define model with 1 neighbor - best from previous section\n",
      "        model.fit(train_data[:size], train_labels[:size]) # train model on mini training data\n",
      "        acc = accuracy_score(dev_labels, model.predict(dev_data)) # calculate accuracy and add to array\n",
      "        print \"Accuracy for size %i: %.2f\" % (size, acc)\n",
      "        accuracies.append(acc)\n",
      "    \n",
      "### STUDENT END ###\n",
      "\n",
      "train_sizes = [100, 200, 400, 800, 1600, 3200, 6400, 12800, 25000]\n",
      "accuracies = []\n",
      "P3(train_sizes, accuracies)"
     ],
     "language": "python",
     "metadata": {},
     "outputs": [
      {
       "output_type": "stream",
       "stream": "stdout",
       "text": [
        "Accuracy for size 100: 0.72\n",
        "Accuracy for size 200: 0.79"
       ]
      },
      {
       "output_type": "stream",
       "stream": "stdout",
       "text": [
        "\n",
        "Accuracy for size 400: 0.84"
       ]
      },
      {
       "output_type": "stream",
       "stream": "stdout",
       "text": [
        "\n",
        "Accuracy for size 800: 0.88"
       ]
      },
      {
       "output_type": "stream",
       "stream": "stdout",
       "text": [
        "\n",
        "Accuracy for size 1600: 0.90"
       ]
      },
      {
       "output_type": "stream",
       "stream": "stdout",
       "text": [
        "\n",
        "Accuracy for size 3200: 0.93"
       ]
      },
      {
       "output_type": "stream",
       "stream": "stdout",
       "text": [
        "\n",
        "Accuracy for size 6400: 0.94"
       ]
      },
      {
       "output_type": "stream",
       "stream": "stdout",
       "text": [
        "\n",
        "Accuracy for size 12800: 0.96"
       ]
      },
      {
       "output_type": "stream",
       "stream": "stdout",
       "text": [
        "\n",
        "Accuracy for size 25000: 0.97"
       ]
      },
      {
       "output_type": "stream",
       "stream": "stdout",
       "text": [
        "\n",
        "[0.71999999999999997, 0.78600000000000003, 0.84099999999999997, 0.88400000000000001, 0.90200000000000002, 0.92600000000000005, 0.93700000000000006, 0.95899999999999996, 0.96999999999999997]\n"
       ]
      }
     ],
     "prompt_number": 83
    },
    {
     "cell_type": "markdown",
     "metadata": {},
     "source": [
      "(4) Fit a regression model that predicts accuracy from training size. What does it predict for n=60000? Can you transform the input to give a better prediction? What's wrong with using regression here?"
     ]
    },
    {
     "cell_type": "code",
     "collapsed": false,
     "input": [
      "def P4():\n",
      "\n",
      "### STUDENT START ###\n",
      "    \n",
      "\n",
      "\n",
      "### STUDENT END ###\n",
      "\n",
      "P4()"
     ],
     "language": "python",
     "metadata": {},
     "outputs": []
    },
    {
     "cell_type": "markdown",
     "metadata": {},
     "source": [
      "ANSWER:"
     ]
    },
    {
     "cell_type": "markdown",
     "metadata": {},
     "source": [
      "Fit a 1-NN and output a confusion matrix for the dev data. For each of the top 5 confused pairs, display a few example mistakes."
     ]
    },
    {
     "cell_type": "code",
     "collapsed": false,
     "input": [
      "def P5():\n",
      "\n",
      "### STUDENT START ###\n",
      "\n",
      "\n",
      "\n",
      "### STUDENT END ###\n",
      "\n",
      "P5()"
     ],
     "language": "python",
     "metadata": {},
     "outputs": []
    },
    {
     "cell_type": "markdown",
     "metadata": {},
     "source": [
      "(6) A common image processing technique is to smooth an image by blurring. The idea is that the value of a particular pixel is estimated as the weighted combination of the original value and the values around it. Typically, the blurring is Gaussian -- that is the weight of a pixel's influence is determined by a Gaussian function over the distance to the relevant pixel. Implement a simplified Gaussian blur by just using the 8 neighboring pixels, experiment with various weights, and apply your smoothing as preprocessing to the training data, the dev data, and both before running a nearest neighbors classifier. Which method works best? What relative improvement can you get?"
     ]
    },
    {
     "cell_type": "code",
     "collapsed": false,
     "input": [
      "def P6():\n",
      "    \n",
      "### STUDENT START ###\n",
      "\n",
      "\n",
      "\n",
      "### STUDENT END ###\n",
      "\n",
      "P6()"
     ],
     "language": "python",
     "metadata": {},
     "outputs": []
    },
    {
     "cell_type": "markdown",
     "metadata": {},
     "source": [
      "ANSWER:"
     ]
    },
    {
     "cell_type": "markdown",
     "metadata": {},
     "source": [
      "(7) Fit a Naive Bayes classifier and report accuracy on the dev data. Remember that Naive Bayes estimates P(feature|label). While sklearn can handle real-valued features, let's start by mapping the pixel values to either 0 or 1. You can do this as a preprocessing step, or with the binarize argument. With binary-valued features, you can use BernoulliNB. Also try mapping the pixel values to 0, 1, or 2, representing white, grey, or black. This mapping requires MultinomialNB. Does the multiclass version, which contain quite a bit more information than binary-valued features, improve the results significantly? Why or why not?"
     ]
    },
    {
     "cell_type": "code",
     "collapsed": false,
     "input": [
      "def P7():\n",
      "\n",
      "### STUDENT START ###\n",
      "\n",
      "\n",
      "    \n",
      "### STUDENT END ###\n",
      "\n",
      "P7()"
     ],
     "language": "python",
     "metadata": {},
     "outputs": []
    },
    {
     "cell_type": "markdown",
     "metadata": {},
     "source": [
      "ANSWER:"
     ]
    },
    {
     "cell_type": "markdown",
     "metadata": {},
     "source": [
      "(8) Use GridSearchCV to perform a search over values of alpha (the Laplace smoothing parameter). What is the best value for alpha? What is the accuracy when alpha=0? Is this what you'd expect?"
     ]
    },
    {
     "cell_type": "code",
     "collapsed": false,
     "input": [
      "def P8(alphas):\n",
      "\n",
      "### STUDENT START ###\n",
      "\n",
      "\n",
      "\n",
      "### STUDENT END ###\n",
      "\n",
      "alphas = {'alpha': [0.0, 0.0001, 0.001, 0.01, 0.1, 0.5, 1.0, 2.0, 10.0]}\n",
      "P8(alphas)"
     ],
     "language": "python",
     "metadata": {},
     "outputs": []
    },
    {
     "cell_type": "markdown",
     "metadata": {},
     "source": [
      "ANSWER:"
     ]
    },
    {
     "cell_type": "markdown",
     "metadata": {},
     "source": [
      "(9) Try training a model using GuassianNB, which is intended for real-valued features, and evaluate on the dev data. You'll notice that it doesn't work so well. Try to diagnose the problem. You should be able to find a simple fix that returns the accuracy to around the same rate as BernoulliNB. Explain your solution."
     ]
    },
    {
     "cell_type": "code",
     "collapsed": false,
     "input": [
      "def P9():\n",
      "\n",
      "### STUDENT END ###\n",
      "\n",
      "\n",
      "\n",
      "### STUDENT END ###\n",
      "\n",
      "P9()"
     ],
     "language": "python",
     "metadata": {},
     "outputs": []
    },
    {
     "cell_type": "markdown",
     "metadata": {},
     "source": [
      "ANSWER:"
     ]
    },
    {
     "cell_type": "markdown",
     "metadata": {},
     "source": [
      "(10) Because Naive Bayes is a generative model, we can use the trained model to generate digits. Train a BernoulliNB model and then generate a 10x20 grid with 20 examples of each digit. Because you're using a Bernoulli model, each pixel output will be either 0 or 1. What general observation can you make about the generated digits? If you use your model to predict the label of your generated digits, how many mistakes does it make? Can you explain this result?"
     ]
    },
    {
     "cell_type": "code",
     "collapsed": false,
     "input": [
      "def P10(num_examples):\n",
      "\n",
      "### STUDENT START ###\n",
      "\n",
      "\n",
      "\n",
      "### STUDENT END ###\n",
      "\n",
      "P10(20)"
     ],
     "language": "python",
     "metadata": {},
     "outputs": []
    },
    {
     "cell_type": "markdown",
     "metadata": {},
     "source": [
      "ANSWER:"
     ]
    },
    {
     "cell_type": "markdown",
     "metadata": {},
     "source": [
      "(11) Display a histogram showing the NB model's calibration. Remember that a well-calibrated classifier is rougly 90% accuracte when the posterior probability of the predicted class is 0.9. Is the model well-calibrated? Why or why not?"
     ]
    },
    {
     "cell_type": "code",
     "collapsed": false,
     "input": [
      "def P11():\n",
      "    \n",
      "### STUDENT START ###\n",
      "\n",
      "\n",
      "                \n",
      "### STUDENT END ###\n",
      "    \n",
      "P11()"
     ],
     "language": "python",
     "metadata": {},
     "outputs": []
    },
    {
     "cell_type": "markdown",
     "metadata": {},
     "source": [
      "ANSWER:"
     ]
    },
    {
     "cell_type": "markdown",
     "metadata": {},
     "source": [
      "(12) Try designing extra features to see if you can improve the performance of Naive Bayes on the dev set. Here are a few ideas to get you started:\n",
      "- Try summing the pixel values in each row and each column.\n",
      "- Try counting the number of enclosed regions; 8 usually has 2 enclosed regions, 9 usually has 1, and 7 usually has 0.\n",
      "\n",
      "You'll get full credit if you get any improvement over the baseline; we'll highlight good features in class. Bonus points if you get over 85% accuracy on the dev set when training on the mini training set. Make sure you comment your code clearly. Describe what you did below."
     ]
    },
    {
     "cell_type": "code",
     "collapsed": false,
     "input": [
      "def P12():\n",
      "\n",
      "### STUDENT START ###\n",
      "\n",
      "\n",
      "\n",
      "### STUDENT END ###\n",
      "\n",
      "P12()"
     ],
     "language": "python",
     "metadata": {},
     "outputs": []
    },
    {
     "cell_type": "markdown",
     "metadata": {},
     "source": [
      "ANSWER:"
     ]
    },
    {
     "cell_type": "markdown",
     "metadata": {},
     "source": [
      "(13) Optional class contest: Use this space to train any classifier you want with any set of features or transformations of the data. We'll choose a new random seed, train your model on the full training set, and evaluate on the test set. The best results will be discussed to class. However, we'll only run your code for a maximum of 5 minutes (on an m3.medium instance) so make sure training and inference are reasonably efficient."
     ]
    },
    {
     "cell_type": "code",
     "collapsed": false,
     "input": [],
     "language": "python",
     "metadata": {},
     "outputs": []
    }
   ],
   "metadata": {}
  }
 ]
}